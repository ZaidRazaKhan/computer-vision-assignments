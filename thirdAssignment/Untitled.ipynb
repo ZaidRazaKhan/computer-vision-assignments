{
 "cells": [
  {
   "cell_type": "code",
   "execution_count": 3,
   "metadata": {},
   "outputs": [
    {
     "name": "stdout",
     "output_type": "stream",
     "text": [
      "Requirement already satisfied: keras-segmentation in /home/zaidraza/workspace/venv/lib/python3.7/site-packages (0.3.0)\n",
      "Requirement already satisfied: Keras>=2.0.0 in /home/zaidraza/workspace/venv/lib/python3.7/site-packages (from keras-segmentation) (2.4.2)\n",
      "Requirement already satisfied: imageio==2.5.0 in /home/zaidraza/workspace/venv/lib/python3.7/site-packages (from keras-segmentation) (2.5.0)\n",
      "Requirement already satisfied: imgaug==0.2.9 in /home/zaidraza/workspace/venv/lib/python3.7/site-packages (from keras-segmentation) (0.2.9)\n",
      "Requirement already satisfied: opencv-python in /home/zaidraza/workspace/venv/lib/python3.7/site-packages (from keras-segmentation) (4.2.0.34)\n",
      "Requirement already satisfied: tqdm in /home/zaidraza/workspace/venv/lib/python3.7/site-packages (from keras-segmentation) (4.46.1)\n",
      "Requirement already satisfied: h5py in /home/zaidraza/workspace/venv/lib/python3.7/site-packages (from Keras>=2.0.0->keras-segmentation) (2.10.0)\n",
      "Requirement already satisfied: scipy>=0.14 in /home/zaidraza/workspace/venv/lib/python3.7/site-packages (from Keras>=2.0.0->keras-segmentation) (1.4.1)\n",
      "Requirement already satisfied: numpy>=1.9.1 in /home/zaidraza/workspace/venv/lib/python3.7/site-packages (from Keras>=2.0.0->keras-segmentation) (1.18.5)\n",
      "Requirement already satisfied: pyyaml in /home/zaidraza/workspace/venv/lib/python3.7/site-packages (from Keras>=2.0.0->keras-segmentation) (5.3.1)\n",
      "Requirement already satisfied: pillow in /home/zaidraza/workspace/venv/lib/python3.7/site-packages (from imageio==2.5.0->keras-segmentation) (7.1.2)\n",
      "Requirement already satisfied: matplotlib in /home/zaidraza/workspace/venv/lib/python3.7/site-packages (from imgaug==0.2.9->keras-segmentation) (3.2.2)\n",
      "Requirement already satisfied: scikit-image>=0.11.0 in /home/zaidraza/workspace/venv/lib/python3.7/site-packages (from imgaug==0.2.9->keras-segmentation) (0.17.2)\n",
      "Requirement already satisfied: six in /home/zaidraza/workspace/venv/lib/python3.7/site-packages (from imgaug==0.2.9->keras-segmentation) (1.15.0)\n",
      "Requirement already satisfied: Shapely in /home/zaidraza/workspace/venv/lib/python3.7/site-packages (from imgaug==0.2.9->keras-segmentation) (1.7.0)\n",
      "Requirement already satisfied: python-dateutil>=2.1 in /home/zaidraza/workspace/venv/lib/python3.7/site-packages (from matplotlib->imgaug==0.2.9->keras-segmentation) (2.8.1)\n",
      "Requirement already satisfied: cycler>=0.10 in /home/zaidraza/workspace/venv/lib/python3.7/site-packages (from matplotlib->imgaug==0.2.9->keras-segmentation) (0.10.0)\n",
      "Requirement already satisfied: kiwisolver>=1.0.1 in /home/zaidraza/workspace/venv/lib/python3.7/site-packages (from matplotlib->imgaug==0.2.9->keras-segmentation) (1.2.0)\n",
      "Requirement already satisfied: pyparsing!=2.0.4,!=2.1.2,!=2.1.6,>=2.0.1 in /home/zaidraza/workspace/venv/lib/python3.7/site-packages (from matplotlib->imgaug==0.2.9->keras-segmentation) (2.4.7)\n",
      "Requirement already satisfied: PyWavelets>=1.1.1 in /home/zaidraza/workspace/venv/lib/python3.7/site-packages (from scikit-image>=0.11.0->imgaug==0.2.9->keras-segmentation) (1.1.1)\n",
      "Requirement already satisfied: tifffile>=2019.7.26 in /home/zaidraza/workspace/venv/lib/python3.7/site-packages (from scikit-image>=0.11.0->imgaug==0.2.9->keras-segmentation) (2020.6.3)\n",
      "Requirement already satisfied: networkx>=2.0 in /home/zaidraza/workspace/venv/lib/python3.7/site-packages (from scikit-image>=0.11.0->imgaug==0.2.9->keras-segmentation) (2.4)\n",
      "Requirement already satisfied: decorator>=4.3.0 in /home/zaidraza/workspace/venv/lib/python3.7/site-packages (from networkx>=2.0->scikit-image>=0.11.0->imgaug==0.2.9->keras-segmentation) (4.4.2)\n",
      "\u001b[33mWARNING: You are using pip version 19.2.3, however version 20.1.1 is available.\n",
      "You should consider upgrading via the 'pip install --upgrade pip' command.\u001b[0m\n"
     ]
    }
   ],
   "source": [
    "!pip install keras-segmentation"
   ]
  },
  {
   "cell_type": "code",
   "execution_count": 4,
   "metadata": {},
   "outputs": [
    {
     "ename": "ModuleNotFoundError",
     "evalue": "No module named 'keras_segmentation'",
     "output_type": "error",
     "traceback": [
      "\u001b[0;31m---------------------------------------------------------------------------\u001b[0m",
      "\u001b[0;31mModuleNotFoundError\u001b[0m                       Traceback (most recent call last)",
      "\u001b[0;32m<ipython-input-4-8aa61d8bda29>\u001b[0m in \u001b[0;36m<module>\u001b[0;34m\u001b[0m\n\u001b[0;32m----> 1\u001b[0;31m \u001b[0;32mfrom\u001b[0m \u001b[0mkeras_segmentation\u001b[0m\u001b[0;34m.\u001b[0m\u001b[0mmodels\u001b[0m\u001b[0;34m.\u001b[0m\u001b[0munet\u001b[0m \u001b[0;32mimport\u001b[0m \u001b[0mvgg_unet\u001b[0m\u001b[0;34m\u001b[0m\u001b[0;34m\u001b[0m\u001b[0m\n\u001b[0m",
      "\u001b[0;31mModuleNotFoundError\u001b[0m: No module named 'keras_segmentation'"
     ]
    }
   ],
   "source": [
    "from keras_segmentation.models.unet import vgg_unet"
   ]
  },
  {
   "cell_type": "code",
   "execution_count": 5,
   "metadata": {},
   "outputs": [
    {
     "ename": "NameError",
     "evalue": "name 'vgg_unet' is not defined",
     "output_type": "error",
     "traceback": [
      "\u001b[0;31m---------------------------------------------------------------------------\u001b[0m",
      "\u001b[0;31mNameError\u001b[0m                                 Traceback (most recent call last)",
      "\u001b[0;32m<ipython-input-5-cdf0a280e95f>\u001b[0m in \u001b[0;36m<module>\u001b[0;34m\u001b[0m\n\u001b[0;32m----> 1\u001b[0;31m \u001b[0mmodel\u001b[0m \u001b[0;34m=\u001b[0m \u001b[0mvgg_unet\u001b[0m\u001b[0;34m(\u001b[0m\u001b[0mn_classes\u001b[0m\u001b[0;34m=\u001b[0m\u001b[0;36m51\u001b[0m \u001b[0;34m,\u001b[0m  \u001b[0minput_height\u001b[0m\u001b[0;34m=\u001b[0m\u001b[0;36m416\u001b[0m\u001b[0;34m,\u001b[0m \u001b[0minput_width\u001b[0m\u001b[0;34m=\u001b[0m\u001b[0;36m608\u001b[0m  \u001b[0;34m)\u001b[0m\u001b[0;34m\u001b[0m\u001b[0;34m\u001b[0m\u001b[0m\n\u001b[0m",
      "\u001b[0;31mNameError\u001b[0m: name 'vgg_unet' is not defined"
     ]
    }
   ],
   "source": [
    "model = vgg_unet(n_classes=51 ,  input_height=416, input_width=608  )"
   ]
  },
  {
   "cell_type": "code",
   "execution_count": 6,
   "metadata": {},
   "outputs": [
    {
     "ename": "NameError",
     "evalue": "name 'model' is not defined",
     "output_type": "error",
     "traceback": [
      "\u001b[0;31m---------------------------------------------------------------------------\u001b[0m",
      "\u001b[0;31mNameError\u001b[0m                                 Traceback (most recent call last)",
      "\u001b[0;32m<ipython-input-6-5f15418b3570>\u001b[0m in \u001b[0;36m<module>\u001b[0;34m\u001b[0m\n\u001b[0;32m----> 1\u001b[0;31m \u001b[0mmodel\u001b[0m\u001b[0;34m.\u001b[0m\u001b[0msummary\u001b[0m\u001b[0;34m(\u001b[0m\u001b[0;34m)\u001b[0m\u001b[0;34m\u001b[0m\u001b[0;34m\u001b[0m\u001b[0m\n\u001b[0m",
      "\u001b[0;31mNameError\u001b[0m: name 'model' is not defined"
     ]
    }
   ],
   "source": [
    "model.summary()"
   ]
  },
  {
   "cell_type": "code",
   "execution_count": 1,
   "metadata": {},
   "outputs": [
    {
     "name": "stderr",
     "output_type": "stream",
     "text": [
      "Using TensorFlow backend.\n",
      "/home/zaid/workspace/computer-vision-assignment/venv/lib/python3.7/site-packages/tensorflow/python/framework/dtypes.py:516: FutureWarning: Passing (type, 1) or '1type' as a synonym of type is deprecated; in a future version of numpy, it will be understood as (type, (1,)) / '(1,)type'.\n",
      "  _np_qint8 = np.dtype([(\"qint8\", np.int8, 1)])\n",
      "/home/zaid/workspace/computer-vision-assignment/venv/lib/python3.7/site-packages/tensorflow/python/framework/dtypes.py:517: FutureWarning: Passing (type, 1) or '1type' as a synonym of type is deprecated; in a future version of numpy, it will be understood as (type, (1,)) / '(1,)type'.\n",
      "  _np_quint8 = np.dtype([(\"quint8\", np.uint8, 1)])\n",
      "/home/zaid/workspace/computer-vision-assignment/venv/lib/python3.7/site-packages/tensorflow/python/framework/dtypes.py:518: FutureWarning: Passing (type, 1) or '1type' as a synonym of type is deprecated; in a future version of numpy, it will be understood as (type, (1,)) / '(1,)type'.\n",
      "  _np_qint16 = np.dtype([(\"qint16\", np.int16, 1)])\n",
      "/home/zaid/workspace/computer-vision-assignment/venv/lib/python3.7/site-packages/tensorflow/python/framework/dtypes.py:519: FutureWarning: Passing (type, 1) or '1type' as a synonym of type is deprecated; in a future version of numpy, it will be understood as (type, (1,)) / '(1,)type'.\n",
      "  _np_quint16 = np.dtype([(\"quint16\", np.uint16, 1)])\n",
      "/home/zaid/workspace/computer-vision-assignment/venv/lib/python3.7/site-packages/tensorflow/python/framework/dtypes.py:520: FutureWarning: Passing (type, 1) or '1type' as a synonym of type is deprecated; in a future version of numpy, it will be understood as (type, (1,)) / '(1,)type'.\n",
      "  _np_qint32 = np.dtype([(\"qint32\", np.int32, 1)])\n",
      "/home/zaid/workspace/computer-vision-assignment/venv/lib/python3.7/site-packages/tensorflow/python/framework/dtypes.py:525: FutureWarning: Passing (type, 1) or '1type' as a synonym of type is deprecated; in a future version of numpy, it will be understood as (type, (1,)) / '(1,)type'.\n",
      "  np_resource = np.dtype([(\"resource\", np.ubyte, 1)])\n",
      "/home/zaid/workspace/computer-vision-assignment/venv/lib/python3.7/site-packages/tensorboard/compat/tensorflow_stub/dtypes.py:541: FutureWarning: Passing (type, 1) or '1type' as a synonym of type is deprecated; in a future version of numpy, it will be understood as (type, (1,)) / '(1,)type'.\n",
      "  _np_qint8 = np.dtype([(\"qint8\", np.int8, 1)])\n",
      "/home/zaid/workspace/computer-vision-assignment/venv/lib/python3.7/site-packages/tensorboard/compat/tensorflow_stub/dtypes.py:542: FutureWarning: Passing (type, 1) or '1type' as a synonym of type is deprecated; in a future version of numpy, it will be understood as (type, (1,)) / '(1,)type'.\n",
      "  _np_quint8 = np.dtype([(\"quint8\", np.uint8, 1)])\n",
      "/home/zaid/workspace/computer-vision-assignment/venv/lib/python3.7/site-packages/tensorboard/compat/tensorflow_stub/dtypes.py:543: FutureWarning: Passing (type, 1) or '1type' as a synonym of type is deprecated; in a future version of numpy, it will be understood as (type, (1,)) / '(1,)type'.\n",
      "  _np_qint16 = np.dtype([(\"qint16\", np.int16, 1)])\n",
      "/home/zaid/workspace/computer-vision-assignment/venv/lib/python3.7/site-packages/tensorboard/compat/tensorflow_stub/dtypes.py:544: FutureWarning: Passing (type, 1) or '1type' as a synonym of type is deprecated; in a future version of numpy, it will be understood as (type, (1,)) / '(1,)type'.\n",
      "  _np_quint16 = np.dtype([(\"quint16\", np.uint16, 1)])\n",
      "/home/zaid/workspace/computer-vision-assignment/venv/lib/python3.7/site-packages/tensorboard/compat/tensorflow_stub/dtypes.py:545: FutureWarning: Passing (type, 1) or '1type' as a synonym of type is deprecated; in a future version of numpy, it will be understood as (type, (1,)) / '(1,)type'.\n",
      "  _np_qint32 = np.dtype([(\"qint32\", np.int32, 1)])\n",
      "/home/zaid/workspace/computer-vision-assignment/venv/lib/python3.7/site-packages/tensorboard/compat/tensorflow_stub/dtypes.py:550: FutureWarning: Passing (type, 1) or '1type' as a synonym of type is deprecated; in a future version of numpy, it will be understood as (type, (1,)) / '(1,)type'.\n",
      "  np_resource = np.dtype([(\"resource\", np.ubyte, 1)])\n"
     ]
    },
    {
     "name": "stdout",
     "output_type": "stream",
     "text": [
      "WARNING:tensorflow:From /home/zaid/workspace/computer-vision-assignment/venv/lib/python3.7/site-packages/keras/backend/tensorflow_backend.py:4070: The name tf.nn.max_pool is deprecated. Please use tf.nn.max_pool2d instead.\n",
      "\n",
      "WARNING:tensorflow:From /home/zaid/workspace/computer-vision-assignment/venv/lib/python3.7/site-packages/keras/backend/tensorflow_backend.py:422: The name tf.global_variables is deprecated. Please use tf.compat.v1.global_variables instead.\n",
      "\n"
     ]
    },
    {
     "name": "stderr",
     "output_type": "stream",
     "text": [
      "101it [03:01,  1.80s/it]"
     ]
    },
    {
     "name": "stdout",
     "output_type": "stream",
     "text": [
      "{'frequency_weighted_IU': 0.77266214823057, 'mean_IU': 0.1035607779073634, 'class_wise_IU': array([0.94058718, 0.7549777 , 0.06806568, 0.92186441, 0.74656362,\n",
      "       0.86081282, 0.09934084, 0.09026954, 0.64907212, 0.02803638,\n",
      "       0.01853118, 0.10347821, 0.        , 0.        , 0.        ,\n",
      "       0.        , 0.        , 0.        , 0.        , 0.        ,\n",
      "       0.        , 0.        , 0.        , 0.        , 0.        ,\n",
      "       0.        , 0.        , 0.        , 0.        , 0.        ,\n",
      "       0.        , 0.        , 0.        , 0.        , 0.        ,\n",
      "       0.        , 0.        , 0.        , 0.        , 0.        ,\n",
      "       0.        , 0.        , 0.        , 0.        , 0.        ,\n",
      "       0.        , 0.        , 0.        , 0.        , 0.        ,\n",
      "       0.        ])}\n"
     ]
    },
    {
     "name": "stderr",
     "output_type": "stream",
     "text": [
      "\n"
     ]
    },
    {
     "data": {
      "image/png": "[encoded data removed]",
      "text/plain": [
       "<Figure size 432x288 with 1 Axes>"
      ]
     },
     "metadata": {
      "needs_background": "light"
     },
     "output_type": "display_data"
    }
   ],
   "source": [
    "from keras_segmentation.models.unet import vgg_unet\n",
    "\n",
    "model = vgg_unet(n_classes=51 ,  input_height=416, input_width=608  )\n",
    "\n",
    "model.load_weights('vgg_unet.h5')\n",
    "\n",
    "out = model.predict_segmentation(\n",
    "    inp=\"dataset1/images_prepped_test/0016E5_07965.png\",\n",
    "    out_fname=\"/tmp/out.png\"\n",
    ")\n",
    "\n",
    "import matplotlib.pyplot as plt\n",
    "plt.imshow(out)\n",
    "\n",
    "# evaluating the model \n",
    "print(model.evaluate_segmentation( inp_images_dir=\"dataset1/images_prepped_test/\"  , annotations_dir=\"dataset1/annotations_prepped_test/\" ) )"
   ]
  },
  {
   "cell_type": "code",
   "execution_count": null,
   "metadata": {},
   "outputs": [],
   "source": []
  }
 ],
 "metadata": {
  "kernelspec": {
   "display_name": "Python 3",
   "language": "python",
   "name": "python3"
  },
  "language_info": {
   "codemirror_mode": {
    "name": "ipython",
    "version": 3
   },
   "file_extension": ".py",
   "mimetype": "text/x-python",
   "name": "python",
   "nbconvert_exporter": "python",
   "pygments_lexer": "ipython3",
   "version": "3.7.7"
  }
 },
 "nbformat": 4,
 "nbformat_minor": 4
}
